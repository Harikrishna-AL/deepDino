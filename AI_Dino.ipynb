{
  "nbformat": 4,
  "nbformat_minor": 0,
  "metadata": {
    "colab": {
      "provenance": []
    },
    "kernelspec": {
      "name": "python3",
      "display_name": "Python 3"
    },
    "language_info": {
      "name": "python"
    },
    "gpuClass": "standard",
    "accelerator": "GPU"
  },
  "cells": [
    {
      "cell_type": "code",
      "source": [
        "import torch\n",
        "from torch.utils.data import Dataset, DataLoader\n",
        "import torch.nn as nn\n",
        "import torchvision.transforms as transform\n",
        "import torchvision.datasets as dsets\n",
        "from matplotlib.pyplot import imshow\n",
        "import matplotlib.pylab as plt\n",
        "y = 100\n",
        "import numpy as np\n",
        "from tqdm import tqdm\n",
        "from PIL import Image"
      ],
      "metadata": {
        "id": "UFsM-T4_-XdZ"
      },
      "execution_count": 111,
      "outputs": []
    },
    {
      "cell_type": "code",
      "source": [
        "from google.colab import drive\n",
        "\n",
        "drive.mount('/content/drive/')\n"
      ],
      "metadata": {
        "id": "gAyMHR8UOCpc",
        "colab": {
          "base_uri": "https://localhost:8080/"
        },
        "outputId": "97d4b1ab-b273-4135-c440-ce6db8e29f4f"
      },
      "execution_count": 112,
      "outputs": [
        {
          "output_type": "stream",
          "name": "stdout",
          "text": [
            "Drive already mounted at /content/drive/; to attempt to forcibly remount, call drive.mount(\"/content/drive/\", force_remount=True).\n"
          ]
        }
      ]
    },
    {
      "cell_type": "code",
      "source": [
        "from glob import glob\n",
        "image_path = glob('/content/drive/MyDrive/deepDino/data/*.png')\n"
      ],
      "metadata": {
        "id": "dP-Mu-hpDO_B"
      },
      "execution_count": 113,
      "outputs": []
    },
    {
      "cell_type": "code",
      "source": [
        "train_path = image_path[0:150]\n",
        "test_path = image_path[150:171]"
      ],
      "metadata": {
        "id": "HkOdkangkGAE"
      },
      "execution_count": 114,
      "outputs": []
    },
    {
      "cell_type": "code",
      "source": [
        "print(plt.imread(train_path[0]).shape)"
      ],
      "metadata": {
        "colab": {
          "base_uri": "https://localhost:8080/"
        },
        "id": "cZPT_qLVFJUp",
        "outputId": "bbaceba5-4c3c-43e1-b48e-950820c3e722"
      },
      "execution_count": 115,
      "outputs": [
        {
          "output_type": "stream",
          "name": "stdout",
          "text": [
            "(105, 150, 3)\n"
          ]
        }
      ]
    },
    {
      "cell_type": "code",
      "source": [
        "labels = [\"UP\",\"DOWN\",\"RIGHT\"]\n",
        "for i in range(len(labels)):\n",
        "\n",
        "  if \"RIGHT\" in image_path[0]:\n",
        "    print(\"yes\")"
      ],
      "metadata": {
        "colab": {
          "base_uri": "https://localhost:8080/"
        },
        "id": "PWIXeWeiYbVW",
        "outputId": "803cec94-8c48-4ac8-adf1-c3e97e046ad1"
      },
      "execution_count": 116,
      "outputs": [
        {
          "output_type": "stream",
          "name": "stdout",
          "text": [
            "yes\n",
            "yes\n",
            "yes\n"
          ]
        }
      ]
    },
    {
      "cell_type": "code",
      "source": [
        "fix,ax = plt.subplots(5,2,figsize=(10,10))\n",
        "for i in range(5):\n",
        "  img = plt.imread(image_path[i])\n",
        "  for j in range(2):\n",
        "    ax[i][j].imshow(img )\n",
        "  # plt.imshow(img)"
      ],
      "metadata": {
        "colab": {
          "base_uri": "https://localhost:8080/",
          "height": 595
        },
        "id": "wFSYJiyOT8qi",
        "outputId": "6de13183-086b-4927-c6ab-f3cda48d66eb"
      },
      "execution_count": 117,
      "outputs": [
        {
          "output_type": "display_data",
          "data": {
            "text/plain": [
              "<Figure size 720x720 with 10 Axes>"
            ],
            "image/png": "[encoded data removed]"
          },
          "metadata": {
            "needs_background": "light"
          }
        }
      ]
    },
    {
      "cell_type": "code",
      "source": [
        "\n",
        "class MyDataset(Dataset):\n",
        "  def __init__(self,image_path,transform_image=None,transform_label=None):\n",
        "    self.image_path = image_path\n",
        "    self.transform_image = transform_image\n",
        "    self.transform_label = transform_label\n",
        "  def __len__(self):\n",
        "    return (len(self.image_path))\n",
        "  def __getitem__(self,i):\n",
        "    labels = [\"UP\",\"DOWN\",\"RIGHT\"]\n",
        "    img = Image.open(self.image_path[i])\n",
        "    for j in range(len(labels)):\n",
        "      if labels[j] in self.image_path[i]:\n",
        "        label = j\n",
        "    if self.transform_image is not None:\n",
        "      image = self.transform_image(img)\n",
        "    if self.transform_label is not None:\n",
        "      label_new = self.transform_label(label)\n",
        "    else:\n",
        "      label_new = label\n",
        "    return image,label_new\n",
        "\n"
      ],
      "metadata": {
        "id": "aXj8oFTVRnDJ"
      },
      "execution_count": 118,
      "outputs": []
    },
    {
      "cell_type": "code",
      "source": [
        "imageTransform = transform.Compose(\n",
        "    [\n",
        "        transform.ToTensor(),\n",
        "        transform.Grayscale(),\n",
        "        transform.Resize((100,100)),\n",
        "        transform.RandomHorizontalFlip(p=0.85),\n",
        "        \n",
        "        \n",
        "    ]\n",
        ")\n",
        "# labelTransform = transform.Compose(\n",
        "#     [\n",
        "#         transform.ToTensor(),\n",
        "#     ]\n",
        "# )"
      ],
      "metadata": {
        "id": "6MTWtHAAZwcE"
      },
      "execution_count": 119,
      "outputs": []
    },
    {
      "cell_type": "code",
      "source": [
        "train_data = MyDataset(train_path,transform_image=imageTransform,transform_label=None)\n",
        "test_data = MyDataset(test_path,transform_image=imageTransform,transform_label=None)\n",
        "train_dataloader = DataLoader(train_data,5)\n",
        "test_dataloader = DataLoader(test_data,1)\n"
      ],
      "metadata": {
        "id": "dsVwZBMjaN3n"
      },
      "execution_count": 120,
      "outputs": []
    },
    {
      "cell_type": "code",
      "source": [
        "train_features, train_labels = next(iter(train_dataloader))\n",
        "print(f\"Feature batch shape: {train_features.size()}\")\n",
        "print(f\"Labels batch shape: {train_labels.size()}\")\n",
        "img = train_features[0].squeeze()\n",
        "label = train_labels[0]\n",
        "print(train_labels)\n",
        "plt.imshow(img, cmap=\"gray\")\n",
        "plt.show()\n",
        "print(f\"Label: {label}\")"
      ],
      "metadata": {
        "colab": {
          "base_uri": "https://localhost:8080/",
          "height": 337
        },
        "id": "0Zl9zL7FJWSB",
        "outputId": "07ccec15-5f00-4f66-bf32-f00d3631fb1d"
      },
      "execution_count": 121,
      "outputs": [
        {
          "output_type": "stream",
          "name": "stdout",
          "text": [
            "Feature batch shape: torch.Size([5, 1, 100, 100])\n",
            "Labels batch shape: torch.Size([5])\n",
            "tensor([2, 2, 2, 0, 0])\n"
          ]
        },
        {
          "output_type": "display_data",
          "data": {
            "text/plain": [
              "<Figure size 432x288 with 1 Axes>"
            ],
            "image/png": "[encoded data removed]"
          },
          "metadata": {
            "needs_background": "light"
          }
        },
        {
          "output_type": "stream",
          "name": "stdout",
          "text": [
            "Label: 2\n"
          ]
        }
      ]
    },
    {
      "cell_type": "code",
      "source": [
        "print(train_data[0][0].shape)"
      ],
      "metadata": {
        "colab": {
          "base_uri": "https://localhost:8080/"
        },
        "id": "RbBAEBPTExk8",
        "outputId": "9075f08d-a1de-4e0e-8b6b-a6794afdb191"
      },
      "execution_count": 122,
      "outputs": [
        {
          "output_type": "stream",
          "name": "stdout",
          "text": [
            "torch.Size([1, 100, 100])\n"
          ]
        }
      ]
    },
    {
      "cell_type": "code",
      "source": [
        "class Dino(nn.Module):\n",
        "  def __init__(self,out1=20,out2=40,out3=60,classes=3):\n",
        "    super().__init__()\n",
        "    self.conLayers = nn.Sequential(\n",
        "      nn.Conv2d(1,out_channels=out1,kernel_size=5,padding=2),\n",
        "      nn.ReLU(),\n",
        "      nn.BatchNorm2d(out1),\n",
        "      nn.MaxPool2d(kernel_size=2),\n",
        "      nn.Dropout(0.25),\n",
        "      nn.Conv2d(in_channels=out1,out_channels=out2,kernel_size=5,padding=2),\n",
        "      nn.ReLU(),\n",
        "      nn.BatchNorm2d(out2),\n",
        "      nn.MaxPool2d(kernel_size=2),\n",
        "      nn.Dropout(0.25),\n",
        "      nn.Flatten(),\n",
        "      nn.Linear(out2*y*y//16,classes),\n",
        "      \n",
        "    )\n",
        "  def forward(self,x):\n",
        "    x = self.conLayers(x)\n",
        "    return x"
      ],
      "metadata": {
        "id": "gTPd0TIhTULq"
      },
      "execution_count": 123,
      "outputs": []
    },
    {
      "cell_type": "code",
      "source": [
        "device = 'cuda' if torch.cuda.is_available() else 'cpu'"
      ],
      "metadata": {
        "id": "IeEJhjthI94J"
      },
      "execution_count": 124,
      "outputs": []
    },
    {
      "cell_type": "code",
      "source": [
        "model = Dino().to(device)\n",
        "lr = 0.0002\n",
        "optimizer = torch.optim.Adam(model.parameters(),lr=lr)\n",
        "# criterion = nn.MSELoss()\n",
        "criterion = nn.CrossEntropyLoss()\n",
        "def train(model,img,label,optimizer,criterion):\n",
        "  optimizer.zero_grad()\n",
        "  out = model(img).to(device)\n",
        "  # y_pred = torch.argmax(out,1)\n",
        "  \n",
        "  # print(y_pred)\n",
        "  # print(out)\n",
        "  # print(label)\n",
        "  loss = criterion(out,label)\n",
        "  # label.requires_grad = True\n",
        "  loss.backward()\n",
        "  optimizer.step()\n",
        "  return loss.item()\n"
      ],
      "metadata": {
        "id": "l5rNMonVndv1"
      },
      "execution_count": 125,
      "outputs": []
    },
    {
      "cell_type": "code",
      "source": [
        "print(model)"
      ],
      "metadata": {
        "colab": {
          "base_uri": "https://localhost:8080/"
        },
        "id": "pAa43nGd-cVB",
        "outputId": "f3b7c27e-cac5-4ce5-f305-d50fac127d64"
      },
      "execution_count": 126,
      "outputs": [
        {
          "output_type": "stream",
          "name": "stdout",
          "text": [
            "Dino(\n",
            "  (conLayers): Sequential(\n",
            "    (0): Conv2d(1, 20, kernel_size=(5, 5), stride=(1, 1), padding=(2, 2))\n",
            "    (1): ReLU()\n",
            "    (2): BatchNorm2d(20, eps=1e-05, momentum=0.1, affine=True, track_running_stats=True)\n",
            "    (3): MaxPool2d(kernel_size=2, stride=2, padding=0, dilation=1, ceil_mode=False)\n",
            "    (4): Dropout(p=0.25, inplace=False)\n",
            "    (5): Conv2d(20, 40, kernel_size=(5, 5), stride=(1, 1), padding=(2, 2))\n",
            "    (6): ReLU()\n",
            "    (7): BatchNorm2d(40, eps=1e-05, momentum=0.1, affine=True, track_running_stats=True)\n",
            "    (8): MaxPool2d(kernel_size=2, stride=2, padding=0, dilation=1, ceil_mode=False)\n",
            "    (9): Dropout(p=0.25, inplace=False)\n",
            "    (10): Flatten(start_dim=1, end_dim=-1)\n",
            "    (11): Linear(in_features=25000, out_features=3, bias=True)\n",
            "  )\n",
            ")\n"
          ]
        }
      ]
    },
    {
      "cell_type": "code",
      "source": [
        "model_loss = []\n",
        "for epoch in range(100):\n",
        "  for img,label in tqdm(train_dataloader):\n",
        "     label = label.type(torch.LongTensor)\n",
        "     label = label.to(device)\n",
        "     img = img.to(device)\n",
        "     loss = train(model,img,label,optimizer,criterion)\n",
        "     model_loss.append(loss)"
      ],
      "metadata": {
        "colab": {
          "base_uri": "https://localhost:8080/"
        },
        "id": "rDxEYdWHmpm_",
        "outputId": "7f6046b9-eb74-4423-d2bf-f0234cc42b91"
      },
      "execution_count": 127,
      "outputs": [
        {
          "output_type": "stream",
          "name": "stderr",
          "text": [
            "100%|██████████| 30/30 [00:00<00:00, 53.77it/s]\n",
            "100%|██████████| 30/30 [00:00<00:00, 70.22it/s]\n",
            "100%|██████████| 30/30 [00:00<00:00, 65.10it/s]\n",
            "100%|██████████| 30/30 [00:00<00:00, 70.86it/s]\n",
            "100%|██████████| 30/30 [00:00<00:00, 72.12it/s]\n",
            "100%|██████████| 30/30 [00:00<00:00, 71.54it/s]\n",
            "100%|██████████| 30/30 [00:00<00:00, 68.32it/s]\n",
            "100%|██████████| 30/30 [00:00<00:00, 67.23it/s]\n",
            "100%|██████████| 30/30 [00:00<00:00, 69.90it/s]\n",
            "100%|██████████| 30/30 [00:00<00:00, 68.62it/s]\n",
            "100%|██████████| 30/30 [00:00<00:00, 65.74it/s]\n",
            "100%|██████████| 30/30 [00:00<00:00, 68.55it/s]\n",
            "100%|██████████| 30/30 [00:00<00:00, 67.03it/s]\n",
            "100%|██████████| 30/30 [00:00<00:00, 70.32it/s]\n",
            "100%|██████████| 30/30 [00:00<00:00, 66.74it/s]\n",
            "100%|██████████| 30/30 [00:00<00:00, 68.32it/s]\n",
            "100%|██████████| 30/30 [00:00<00:00, 70.45it/s]\n",
            "100%|██████████| 30/30 [00:00<00:00, 69.69it/s]\n",
            "100%|██████████| 30/30 [00:00<00:00, 67.71it/s]\n",
            "100%|██████████| 30/30 [00:00<00:00, 68.65it/s]\n",
            "100%|██████████| 30/30 [00:00<00:00, 68.41it/s]\n",
            "100%|██████████| 30/30 [00:00<00:00, 69.44it/s]\n",
            "100%|██████████| 30/30 [00:00<00:00, 69.12it/s]\n",
            "100%|██████████| 30/30 [00:00<00:00, 69.32it/s]\n",
            "100%|██████████| 30/30 [00:00<00:00, 69.74it/s]\n",
            "100%|██████████| 30/30 [00:00<00:00, 66.60it/s]\n",
            "100%|██████████| 30/30 [00:00<00:00, 69.97it/s]\n",
            "100%|██████████| 30/30 [00:00<00:00, 70.17it/s]\n",
            "100%|██████████| 30/30 [00:00<00:00, 71.40it/s]\n",
            "100%|██████████| 30/30 [00:00<00:00, 70.37it/s]\n",
            "100%|██████████| 30/30 [00:00<00:00, 69.93it/s]\n",
            "100%|██████████| 30/30 [00:00<00:00, 71.07it/s]\n",
            "100%|██████████| 30/30 [00:00<00:00, 66.94it/s]\n",
            "100%|██████████| 30/30 [00:00<00:00, 69.95it/s]\n",
            "100%|██████████| 30/30 [00:00<00:00, 70.80it/s]\n",
            "100%|██████████| 30/30 [00:00<00:00, 69.87it/s]\n",
            "100%|██████████| 30/30 [00:00<00:00, 70.69it/s]\n",
            "100%|██████████| 30/30 [00:00<00:00, 68.66it/s]\n",
            "100%|██████████| 30/30 [00:00<00:00, 70.24it/s]\n",
            "100%|██████████| 30/30 [00:00<00:00, 67.53it/s]\n",
            "100%|██████████| 30/30 [00:00<00:00, 69.86it/s]\n",
            "100%|██████████| 30/30 [00:00<00:00, 69.18it/s]\n",
            "100%|██████████| 30/30 [00:00<00:00, 69.74it/s]\n",
            "100%|██████████| 30/30 [00:00<00:00, 64.65it/s]\n",
            "100%|██████████| 30/30 [00:00<00:00, 69.14it/s]\n",
            "100%|██████████| 30/30 [00:00<00:00, 70.19it/s]\n",
            "100%|██████████| 30/30 [00:00<00:00, 65.69it/s]\n",
            "100%|██████████| 30/30 [00:00<00:00, 67.86it/s]\n",
            "100%|██████████| 30/30 [00:00<00:00, 67.52it/s]\n",
            "100%|██████████| 30/30 [00:00<00:00, 70.44it/s]\n",
            "100%|██████████| 30/30 [00:00<00:00, 68.17it/s]\n",
            "100%|██████████| 30/30 [00:00<00:00, 71.51it/s]\n",
            "100%|██████████| 30/30 [00:00<00:00, 69.92it/s]\n",
            "100%|██████████| 30/30 [00:00<00:00, 70.96it/s]\n",
            "100%|██████████| 30/30 [00:00<00:00, 70.92it/s]\n",
            "100%|██████████| 30/30 [00:00<00:00, 67.64it/s]\n",
            "100%|██████████| 30/30 [00:00<00:00, 71.04it/s]\n",
            "100%|██████████| 30/30 [00:00<00:00, 68.95it/s]\n",
            "100%|██████████| 30/30 [00:00<00:00, 66.34it/s]\n",
            "100%|██████████| 30/30 [00:00<00:00, 68.25it/s]\n",
            "100%|██████████| 30/30 [00:00<00:00, 68.58it/s]\n",
            "100%|██████████| 30/30 [00:00<00:00, 68.39it/s]\n",
            "100%|██████████| 30/30 [00:00<00:00, 70.76it/s]\n",
            "100%|██████████| 30/30 [00:00<00:00, 69.76it/s]\n",
            "100%|██████████| 30/30 [00:00<00:00, 70.91it/s]\n",
            "100%|██████████| 30/30 [00:00<00:00, 70.47it/s]\n",
            "100%|██████████| 30/30 [00:00<00:00, 69.78it/s]\n",
            "100%|██████████| 30/30 [00:00<00:00, 69.16it/s]\n",
            "100%|██████████| 30/30 [00:00<00:00, 67.52it/s]\n",
            "100%|██████████| 30/30 [00:00<00:00, 70.27it/s]\n",
            "100%|██████████| 30/30 [00:00<00:00, 69.56it/s]\n",
            "100%|██████████| 30/30 [00:00<00:00, 67.35it/s]\n",
            "100%|██████████| 30/30 [00:00<00:00, 69.82it/s]\n",
            "100%|██████████| 30/30 [00:00<00:00, 70.56it/s]\n",
            "100%|██████████| 30/30 [00:00<00:00, 65.54it/s]\n",
            "100%|██████████| 30/30 [00:00<00:00, 69.82it/s]\n",
            "100%|██████████| 30/30 [00:00<00:00, 67.63it/s]\n",
            "100%|██████████| 30/30 [00:00<00:00, 69.89it/s]\n",
            "100%|██████████| 30/30 [00:00<00:00, 66.18it/s]\n",
            "100%|██████████| 30/30 [00:00<00:00, 70.93it/s]\n",
            "100%|██████████| 30/30 [00:00<00:00, 67.77it/s]\n",
            "100%|██████████| 30/30 [00:00<00:00, 67.62it/s]\n",
            "100%|██████████| 30/30 [00:00<00:00, 69.24it/s]\n",
            "100%|██████████| 30/30 [00:00<00:00, 70.06it/s]\n",
            "100%|██████████| 30/30 [00:00<00:00, 68.59it/s]\n",
            "100%|██████████| 30/30 [00:00<00:00, 70.26it/s]\n",
            "100%|██████████| 30/30 [00:00<00:00, 70.71it/s]\n",
            "100%|██████████| 30/30 [00:00<00:00, 68.54it/s]\n",
            "100%|██████████| 30/30 [00:00<00:00, 70.81it/s]\n",
            "100%|██████████| 30/30 [00:00<00:00, 69.73it/s]\n",
            "100%|██████████| 30/30 [00:00<00:00, 67.83it/s]\n",
            "100%|██████████| 30/30 [00:00<00:00, 69.10it/s]\n",
            "100%|██████████| 30/30 [00:00<00:00, 69.98it/s]\n",
            "100%|██████████| 30/30 [00:00<00:00, 67.22it/s]\n",
            "100%|██████████| 30/30 [00:00<00:00, 69.29it/s]\n",
            "100%|██████████| 30/30 [00:00<00:00, 71.06it/s]\n",
            "100%|██████████| 30/30 [00:00<00:00, 69.10it/s]\n",
            "100%|██████████| 30/30 [00:00<00:00, 69.11it/s]\n",
            "100%|██████████| 30/30 [00:00<00:00, 68.23it/s]\n",
            "100%|██████████| 30/30 [00:00<00:00, 69.52it/s]\n"
          ]
        }
      ]
    },
    {
      "cell_type": "code",
      "source": [
        "plt.plot(model_loss)"
      ],
      "metadata": {
        "colab": {
          "base_uri": "https://localhost:8080/",
          "height": 282
        },
        "id": "-HJ-__V-anYt",
        "outputId": "9afc4734-6098-4253-b637-c3d4855944c0"
      },
      "execution_count": 128,
      "outputs": [
        {
          "output_type": "execute_result",
          "data": {
            "text/plain": [
              "[<matplotlib.lines.Line2D at 0x7f25b04b6f70>]"
            ]
          },
          "metadata": {},
          "execution_count": 128
        },
        {
          "output_type": "display_data",
          "data": {
            "text/plain": [
              "<Figure size 432x288 with 1 Axes>"
            ],
            "image/png": "[encoded data removed]"
          },
          "metadata": {
            "needs_background": "light"
          }
        }
      ]
    },
    {
      "cell_type": "code",
      "source": [
        "correct = 0\n",
        "for img,lab in tqdm(test_dataloader):\n",
        "  label = lab.type(torch.LongTensor)\n",
        "  label = lab.to(device)\n",
        "  img = img.to(device)\n",
        "  output = model(img)\n",
        "  y_pred = torch.argmax(output,1)\n",
        "  if y_pred == label:\n",
        "    correct +=1\n",
        "  # print(y_pred,lab)\n",
        "test_acc = correct/len(test_data)\n",
        "print(\"The testing accuracy is: \",test_acc*100)"
      ],
      "metadata": {
        "colab": {
          "base_uri": "https://localhost:8080/"
        },
        "id": "UFL9BOm4K6np",
        "outputId": "27ba7f0e-906d-495d-809c-33a5a4dc48de"
      },
      "execution_count": 129,
      "outputs": [
        {
          "output_type": "stream",
          "name": "stderr",
          "text": [
            "100%|██████████| 21/21 [00:00<00:00, 287.34it/s]"
          ]
        },
        {
          "output_type": "stream",
          "name": "stdout",
          "text": [
            "The testing accuracy is:  85.71428571428571\n"
          ]
        },
        {
          "output_type": "stream",
          "name": "stderr",
          "text": [
            "\n"
          ]
        }
      ]
    },
    {
      "cell_type": "code",
      "source": [],
      "metadata": {
        "id": "5uVMIJ4JLwx6"
      },
      "execution_count": 129,
      "outputs": []
    }
  ]
}